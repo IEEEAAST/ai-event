{
 "cells": [
  {
   "cell_type": "markdown",
   "id": "1646aace",
   "metadata": {},
   "source": [
    "# Pandas Tutorial"
   ]
  },
  {
   "cell_type": "markdown",
   "id": "f6d0ad36",
   "metadata": {},
   "source": [
    "You can think of pandas as an extremely powerful version of Excel, with a lot more features. In this section of the course."
   ]
  },
  {
   "cell_type": "code",
   "execution_count": 24,
   "id": "fee218d1",
   "metadata": {},
   "outputs": [],
   "source": [
    "import pandas as pd\n",
    "import numpy as np\n",
    "from numpy.random import randn\n",
    "np.random.seed(101)"
   ]
  },
  {
   "cell_type": "markdown",
   "id": "f3d75203",
   "metadata": {},
   "source": [
    "## Content"
   ]
  },
  {
   "cell_type": "markdown",
   "id": "784c5758",
   "metadata": {},
   "source": [
    "### 1. - DataFrame Creation\n",
    "   - pd.DataFrame(2d_array,index=,columns=)\n",
    "   - pd.DataFrame({\"col1\":list,\"col2\":list})\n",
    "\n",
    "### 2. DataFrame Indexing and Selection\n",
    "   ##### 2.1 Column Selection\n",
    "   - Bracket Notation\n",
    "   - Dot Notation\n",
    "   ##### 2.3 Row Selection\n",
    "   - loc[]\n",
    "   - iloc[]\n",
    "   - loc[['ROW1','ROW2'],['COL1',COL2]]\n",
    "   ##### 2.3 Conditional Selection\n",
    "   - dataFrame -> condition\n",
    "   - dataFrame[condition]\n",
    "   - dataFrame[Multiple Conditions]\n",
    "   - reset_index()\n",
    "   - set_index(list,inplace = TRUE | FALSE)\n",
    "\n",
    "### 3.  Operations on rows and columns\n",
    "   - What is axis?\n",
    "   - Adding a column\n",
    "   - Removing a column\n",
    "   - unique()\n",
    "   - nunique()\n",
    "   - value_counts()\n",
    "   - Applying Functions (.apply(function_reference))\n",
    "   - Sorting Columns sort_values(by='col_name') or sort_values(by=['col_name1',col_name2])\n",
    "   \n",
    "\n",
    "    \n",
    "   \n",
    "\n",
    "   \n"
   ]
  },
  {
   "cell_type": "markdown",
   "id": "2ef139dd",
   "metadata": {},
   "source": [
    "#### 1 - Create a Dataframe (2 methods)"
   ]
  },
  {
   "cell_type": "code",
   "execution_count": 73,
   "id": "93bbbdf4",
   "metadata": {},
   "outputs": [
    {
     "data": {
      "text/html": [
       "<div>\n",
       "<style scoped>\n",
       "    .dataframe tbody tr th:only-of-type {\n",
       "        vertical-align: middle;\n",
       "    }\n",
       "\n",
       "    .dataframe tbody tr th {\n",
       "        vertical-align: top;\n",
       "    }\n",
       "\n",
       "    .dataframe thead th {\n",
       "        text-align: right;\n",
       "    }\n",
       "</style>\n",
       "<table border=\"1\" class=\"dataframe\">\n",
       "  <thead>\n",
       "    <tr style=\"text-align: right;\">\n",
       "      <th></th>\n",
       "      <th>gpa1</th>\n",
       "      <th>gpa2</th>\n",
       "    </tr>\n",
       "  </thead>\n",
       "  <tbody>\n",
       "    <tr>\n",
       "      <th>0</th>\n",
       "      <td>1</td>\n",
       "      <td>1</td>\n",
       "    </tr>\n",
       "    <tr>\n",
       "      <th>1</th>\n",
       "      <td>2</td>\n",
       "      <td>2</td>\n",
       "    </tr>\n",
       "    <tr>\n",
       "      <th>2</th>\n",
       "      <td>3</td>\n",
       "      <td>3</td>\n",
       "    </tr>\n",
       "    <tr>\n",
       "      <th>3</th>\n",
       "      <td>4</td>\n",
       "      <td>4</td>\n",
       "    </tr>\n",
       "    <tr>\n",
       "      <th>4</th>\n",
       "      <td>5</td>\n",
       "      <td>5</td>\n",
       "    </tr>\n",
       "  </tbody>\n",
       "</table>\n",
       "</div>"
      ],
      "text/plain": [
       "   gpa1  gpa2\n",
       "0     1     1\n",
       "1     2     2\n",
       "2     3     3\n",
       "3     4     4\n",
       "4     5     5"
      ]
     },
     "execution_count": 73,
     "metadata": {},
     "output_type": "execute_result"
    }
   ],
   "source": [
    "df = pd.DataFrame({\"gpa1\":[1,2,3,4,5],\"gpa2\":[1,2,3,4,5],\"gpa2\":[1,2,3,4,5]})\n",
    "df"
   ]
  },
  {
   "cell_type": "code",
   "execution_count": 75,
   "id": "4f35586d",
   "metadata": {},
   "outputs": [
    {
     "data": {
      "text/html": [
       "<div>\n",
       "<style scoped>\n",
       "    .dataframe tbody tr th:only-of-type {\n",
       "        vertical-align: middle;\n",
       "    }\n",
       "\n",
       "    .dataframe tbody tr th {\n",
       "        vertical-align: top;\n",
       "    }\n",
       "\n",
       "    .dataframe thead th {\n",
       "        text-align: right;\n",
       "    }\n",
       "</style>\n",
       "<table border=\"1\" class=\"dataframe\">\n",
       "  <thead>\n",
       "    <tr style=\"text-align: right;\">\n",
       "      <th></th>\n",
       "      <th>SCORE1</th>\n",
       "      <th>SCORE2</th>\n",
       "      <th>SCORE3</th>\n",
       "    </tr>\n",
       "  </thead>\n",
       "  <tbody>\n",
       "    <tr>\n",
       "      <th>Sarah</th>\n",
       "      <td>4</td>\n",
       "      <td>2</td>\n",
       "      <td>4</td>\n",
       "    </tr>\n",
       "    <tr>\n",
       "      <th>Hisham</th>\n",
       "      <td>0</td>\n",
       "      <td>1</td>\n",
       "      <td>4</td>\n",
       "    </tr>\n",
       "    <tr>\n",
       "      <th>Ahmed</th>\n",
       "      <td>2</td>\n",
       "      <td>4</td>\n",
       "      <td>0</td>\n",
       "    </tr>\n",
       "    <tr>\n",
       "      <th>Mohamed</th>\n",
       "      <td>4</td>\n",
       "      <td>2</td>\n",
       "      <td>4</td>\n",
       "    </tr>\n",
       "    <tr>\n",
       "      <th>CARMEN</th>\n",
       "      <td>1</td>\n",
       "      <td>0</td>\n",
       "      <td>3</td>\n",
       "    </tr>\n",
       "  </tbody>\n",
       "</table>\n",
       "</div>"
      ],
      "text/plain": [
       "         SCORE1  SCORE2  SCORE3\n",
       "Sarah         4       2       4\n",
       "Hisham        0       1       4\n",
       "Ahmed         2       4       0\n",
       "Mohamed       4       2       4\n",
       "CARMEN        1       0       3"
      ]
     },
     "execution_count": 75,
     "metadata": {},
     "output_type": "execute_result"
    }
   ],
   "source": [
    "df = pd.DataFrame(np.random.randint(5,size=(5,3)),[\"Sarah\",\"Hisham\",\"Ahmed\",\"Mohamed\",\"CARMEN\"],[\"SCORE1\",\"SCORE2\",\"SCORE3\"])\n",
    "df"
   ]
  },
  {
   "cell_type": "markdown",
   "id": "669d544b",
   "metadata": {},
   "source": [
    "### Count values in a column or in a DataFrame"
   ]
  },
  {
   "cell_type": "code",
   "execution_count": null,
   "id": "df151fc5",
   "metadata": {},
   "outputs": [],
   "source": []
  },
  {
   "cell_type": "code",
   "execution_count": null,
   "id": "ae950a43",
   "metadata": {},
   "outputs": [],
   "source": []
  },
  {
   "cell_type": "markdown",
   "id": "6592fed1",
   "metadata": {},
   "source": [
    "### Select Multiple Columns"
   ]
  },
  {
   "cell_type": "code",
   "execution_count": null,
   "id": "b3ceb5b5",
   "metadata": {},
   "outputs": [],
   "source": []
  },
  {
   "cell_type": "code",
   "execution_count": null,
   "id": "ad222f06",
   "metadata": {},
   "outputs": [],
   "source": []
  },
  {
   "cell_type": "markdown",
   "id": "37bb8be9",
   "metadata": {},
   "source": [
    "### Row Selection (2 Methods)"
   ]
  },
  {
   "cell_type": "code",
   "execution_count": null,
   "id": "354f1737",
   "metadata": {},
   "outputs": [],
   "source": [
    "# .loc[]"
   ]
  },
  {
   "cell_type": "code",
   "execution_count": 76,
   "id": "6339ff00",
   "metadata": {},
   "outputs": [],
   "source": [
    "# .iloc[]\n",
    "# selection by index"
   ]
  },
  {
   "cell_type": "markdown",
   "id": "f277fc4f",
   "metadata": {},
   "source": [
    "#### Cell Selection"
   ]
  },
  {
   "cell_type": "code",
   "execution_count": null,
   "id": "b2c241fe",
   "metadata": {},
   "outputs": [],
   "source": []
  },
  {
   "cell_type": "markdown",
   "id": "f9ee5a88",
   "metadata": {},
   "source": [
    "#### Select 2 columns in 1 row"
   ]
  },
  {
   "cell_type": "code",
   "execution_count": null,
   "id": "22d44403",
   "metadata": {},
   "outputs": [],
   "source": []
  },
  {
   "cell_type": "markdown",
   "id": "75b142b1",
   "metadata": {},
   "source": [
    "#### Select 2 rows 1 column"
   ]
  },
  {
   "cell_type": "code",
   "execution_count": null,
   "id": "a76edb7a",
   "metadata": {},
   "outputs": [],
   "source": []
  },
  {
   "cell_type": "markdown",
   "id": "42091054",
   "metadata": {},
   "source": [
    "#### Conditional Selection"
   ]
  },
  {
   "cell_type": "code",
   "execution_count": null,
   "id": "3234468d",
   "metadata": {},
   "outputs": [],
   "source": []
  },
  {
   "cell_type": "code",
   "execution_count": null,
   "id": "62591b33",
   "metadata": {},
   "outputs": [],
   "source": []
  },
  {
   "cell_type": "markdown",
   "id": "b3ee9b1c",
   "metadata": {},
   "source": [
    "#### Multiple Conditions"
   ]
  },
  {
   "cell_type": "code",
   "execution_count": null,
   "id": "33ad0ea4",
   "metadata": {},
   "outputs": [],
   "source": []
  },
  {
   "cell_type": "markdown",
   "id": "7e661a0f",
   "metadata": {},
   "source": [
    "#### Reset Index"
   ]
  },
  {
   "cell_type": "code",
   "execution_count": null,
   "id": "981e0615",
   "metadata": {},
   "outputs": [],
   "source": []
  },
  {
   "cell_type": "markdown",
   "id": "ac37396c",
   "metadata": {},
   "source": [
    "#### Set Index"
   ]
  },
  {
   "cell_type": "code",
   "execution_count": null,
   "id": "1ef4dac8",
   "metadata": {},
   "outputs": [],
   "source": []
  },
  {
   "cell_type": "markdown",
   "id": "16ba830c",
   "metadata": {},
   "source": [
    "#### what is the axis?"
   ]
  },
  {
   "cell_type": "code",
   "execution_count": 40,
   "id": "95ca4397",
   "metadata": {},
   "outputs": [
    {
     "data": {
      "text/plain": [
       "(5, 3)"
      ]
     },
     "execution_count": 40,
     "metadata": {},
     "output_type": "execute_result"
    }
   ],
   "source": [
    "df.shape"
   ]
  },
  {
   "cell_type": "markdown",
   "id": "05fc733d",
   "metadata": {},
   "source": [
    "#### Create a new column"
   ]
  },
  {
   "cell_type": "code",
   "execution_count": null,
   "id": "e276bb13",
   "metadata": {},
   "outputs": [],
   "source": []
  },
  {
   "cell_type": "markdown",
   "id": "75bb38b8",
   "metadata": {},
   "source": [
    "#### Drop Column"
   ]
  },
  {
   "cell_type": "code",
   "execution_count": null,
   "id": "938aa4d2",
   "metadata": {},
   "outputs": [],
   "source": []
  },
  {
   "cell_type": "markdown",
   "id": "9640f7ac",
   "metadata": {},
   "source": [
    "#### unique, nunique, value_counts(), apply()\n",
    "\n",
    ".unique() -> returns an array of removed duplicates\n",
    "\n",
    ".nunique() -> returns the lengthof the array of removed duplicates\n",
    "\n",
    ".value_counts() -> returns a series of count of the single cell\n",
    "\n",
    ".apply() -> performs an operation on a single cell"
   ]
  },
  {
   "cell_type": "code",
   "execution_count": null,
   "id": "e1e28f1e",
   "metadata": {},
   "outputs": [],
   "source": []
  },
  {
   "cell_type": "code",
   "execution_count": null,
   "id": "95f49cc2",
   "metadata": {},
   "outputs": [],
   "source": []
  },
  {
   "cell_type": "code",
   "execution_count": null,
   "id": "ba25830f",
   "metadata": {},
   "outputs": [],
   "source": []
  },
  {
   "cell_type": "code",
   "execution_count": null,
   "id": "0441ab74",
   "metadata": {},
   "outputs": [],
   "source": []
  },
  {
   "cell_type": "code",
   "execution_count": null,
   "id": "956624fb",
   "metadata": {},
   "outputs": [],
   "source": []
  },
  {
   "cell_type": "code",
   "execution_count": null,
   "id": "91a934c3",
   "metadata": {},
   "outputs": [],
   "source": []
  },
  {
   "cell_type": "code",
   "execution_count": null,
   "id": "2f947dea",
   "metadata": {},
   "outputs": [],
   "source": []
  }
 ],
 "metadata": {
  "kernelspec": {
   "display_name": "Python 3 (ipykernel)",
   "language": "python",
   "name": "python3"
  },
  "language_info": {
   "codemirror_mode": {
    "name": "ipython",
    "version": 3
   },
   "file_extension": ".py",
   "mimetype": "text/x-python",
   "name": "python",
   "nbconvert_exporter": "python",
   "pygments_lexer": "ipython3",
   "version": "3.9.13"
  }
 },
 "nbformat": 4,
 "nbformat_minor": 5
}
