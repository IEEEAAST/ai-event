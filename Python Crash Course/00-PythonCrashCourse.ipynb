{
 "cells": [
  {
   "cell_type": "markdown",
   "metadata": {
    "id": "rf2QiIhYAaMi"
   },
   "source": [
    "# Python Crash Course"
   ]
  },
  {
   "cell_type": "markdown",
   "metadata": {
    "id": "U1PvreR9L9eW"
   },
   "source": [
    "In this tutorial, we will cover:\n",
    "- Basic Python: \n",
    "- Basic data types \n",
    "- Containers: Lists, Dictionaries, Sets, Tuples\n",
    "- Functions"
   ]
  },
  {
   "cell_type": "markdown",
   "metadata": {
    "id": "JOb4YdnOik98"
   },
   "source": [
    "## 1 Basic Data Types"
   ]
  },
  {
   "cell_type": "markdown",
   "metadata": {
    "id": "N3VPSFezjMNT"
   },
   "source": [
    "### 1.1 Numbers"
   ]
  },
  {
   "cell_type": "markdown",
   "metadata": {
    "id": "MGS0XEWoL9er"
   },
   "source": [
    "Integers and floats work as you would expect from other languages:"
   ]
  },
  {
   "cell_type": "code",
   "execution_count": 44,
   "metadata": {
    "colab": {
     "base_uri": "https://localhost:8080/"
    },
    "id": "KheDr_zDL9es",
    "outputId": "c1356624-eca5-43df-9eda-cdf9bc8998e7"
   },
   "outputs": [],
   "source": [
    "x = 1\n",
    "y = 2.4\n",
    "z = \"Sarah\""
   ]
  },
  {
   "cell_type": "markdown",
   "metadata": {},
   "source": [
    "#### Arithmetic Operations"
   ]
  },
  {
   "cell_type": "code",
   "execution_count": null,
   "metadata": {
    "colab": {
     "base_uri": "https://localhost:8080/"
    },
    "id": "sk_8DFcuL9ey",
    "outputId": "8572d42c-6711-4294-c2ed-bed3926a1210"
   },
   "outputs": [],
   "source": [
    "print(x + 1)   # Addition\n",
    "print(x - 1)   # Subtraction\n",
    "print(x * 2)   # Multiplication\n",
    "print(x ** 2)  # Exponentiation"
   ]
  },
  {
   "cell_type": "code",
   "execution_count": 39,
   "metadata": {
    "colab": {
     "base_uri": "https://localhost:8080/"
    },
    "id": "U4Jl8K0tL9e4",
    "outputId": "f7500418-b7c8-49ec-867d-82e42a201f9e"
   },
   "outputs": [
    {
     "name": "stdout",
     "output_type": "stream",
     "text": [
      "5\n",
      "10\n"
     ]
    }
   ],
   "source": [
    "x += 1\n",
    "print(x)\n",
    "x *= 2\n",
    "print(x)"
   ]
  },
  {
   "cell_type": "code",
   "execution_count": 40,
   "metadata": {},
   "outputs": [
    {
     "name": "stdout",
     "output_type": "stream",
     "text": [
      "10 <class 'int'>\n"
     ]
    }
   ],
   "source": [
    "print(x, type(x))"
   ]
  },
  {
   "cell_type": "markdown",
   "metadata": {},
   "source": [
    "#### Multiple prints  in one function "
   ]
  },
  {
   "cell_type": "code",
   "execution_count": null,
   "metadata": {
    "colab": {
     "base_uri": "https://localhost:8080/"
    },
    "id": "w-nZ0Sg_L9e9",
    "outputId": "b7727444-af8c-4c61-ec03-68e2a31cb67a"
   },
   "outputs": [],
   "source": [
    "y = 2.5\n",
    "print(\" Y = \", y, \"Y+1 = \", y + 1, y * 2, y ** 2)"
   ]
  },
  {
   "cell_type": "markdown",
   "metadata": {
    "id": "r2A9ApyaL9fB"
   },
   "source": [
    "Note that unlike many languages, Python does not have unary increment (x++) or decrement (x--) operators.\n",
    "\n",
    "Python also has built-in types for long integers and complex numbers; you can find all of the details in the [documentation](https://docs.python.org/3.7/library/stdtypes.html#numeric-types-int-float-long-complex)."
   ]
  },
  {
   "cell_type": "markdown",
   "metadata": {
    "id": "B7WpC3Wtjgu0"
   },
   "source": [
    "### 1.2 Booleans"
   ]
  },
  {
   "cell_type": "markdown",
   "metadata": {
    "id": "Nv_LIVOJL9fD"
   },
   "source": [
    "Python implements all of the usual operators for Boolean logic, but uses English words rather than symbols (`&&`, `||`, etc.):"
   ]
  },
  {
   "cell_type": "code",
   "execution_count": 46,
   "metadata": {
    "colab": {
     "base_uri": "https://localhost:8080/"
    },
    "id": "RvoImwgGL9fE",
    "outputId": "f81ed3c4-2646-4c39-9f51-351173082da7"
   },
   "outputs": [
    {
     "name": "stdout",
     "output_type": "stream",
     "text": [
      "<class 'bool'>\n"
     ]
    }
   ],
   "source": [
    "t, f = True, False\n",
    "print(type(t))"
   ]
  },
  {
   "cell_type": "markdown",
   "metadata": {
    "id": "YQgmQfOgL9fI"
   },
   "source": [
    "Now we let's look at the logical operators:"
   ]
  },
  {
   "cell_type": "code",
   "execution_count": 47,
   "metadata": {
    "colab": {
     "base_uri": "https://localhost:8080/"
    },
    "id": "6zYm7WzCL9fK",
    "outputId": "f9e964b7-c608-4dd8-99cb-a1c57d0b8bd4"
   },
   "outputs": [
    {
     "name": "stdout",
     "output_type": "stream",
     "text": [
      "False\n",
      "True\n",
      "False\n"
     ]
    }
   ],
   "source": [
    "print(t and f) # Logical AND;\n",
    "print(t or f)  # Logical OR;\n",
    "print(not t)   # Logical NOT;"
   ]
  },
  {
   "cell_type": "code",
   "execution_count": 22,
   "metadata": {},
   "outputs": [
    {
     "data": {
      "text/plain": [
       "False"
      ]
     },
     "execution_count": 22,
     "metadata": {},
     "output_type": "execute_result"
    }
   ],
   "source": [
    "(2 < 3) and (1>2)\n"
   ]
  },
  {
   "cell_type": "code",
   "execution_count": 24,
   "metadata": {},
   "outputs": [
    {
     "data": {
      "text/plain": [
       "True"
      ]
     },
     "execution_count": 24,
     "metadata": {},
     "output_type": "execute_result"
    }
   ],
   "source": [
    "(2 < 3) or (1>2)"
   ]
  },
  {
   "cell_type": "code",
   "execution_count": 25,
   "metadata": {},
   "outputs": [
    {
     "data": {
      "text/plain": [
       "True"
      ]
     },
     "execution_count": 25,
     "metadata": {},
     "output_type": "execute_result"
    }
   ],
   "source": [
    "(1 == 2) or (2 == 3) or (4 == 4)"
   ]
  },
  {
   "cell_type": "markdown",
   "metadata": {
    "id": "UQnQWFEyL9fP"
   },
   "source": [
    "### 1.3 Strings"
   ]
  },
  {
   "cell_type": "code",
   "execution_count": 48,
   "metadata": {
    "colab": {
     "base_uri": "https://localhost:8080/"
    },
    "id": "AijEDtPFL9fP",
    "outputId": "5f6c3e3b-7e7b-4b12-8572-fcb7b6104c3a"
   },
   "outputs": [
    {
     "name": "stdout",
     "output_type": "stream",
     "text": [
      "hello 5\n"
     ]
    }
   ],
   "source": [
    "hello = 'hello'   # String literals can use single quotes\n",
    "world = \"world\"   # or double quotes; it does not matter\n",
    "print(hello, len(hello))"
   ]
  },
  {
   "cell_type": "code",
   "execution_count": 49,
   "metadata": {
    "colab": {
     "base_uri": "https://localhost:8080/"
    },
    "id": "Nji1_UjYL9fY",
    "outputId": "b789e657-30bb-4b91-fec0-a953e3a58589"
   },
   "outputs": [
    {
     "name": "stdout",
     "output_type": "stream",
     "text": [
      " I Print hello world 12\n"
     ]
    }
   ],
   "source": [
    "hw12 = ' I Print {} {} {}'.format(hello, world, 12)  # string formatting\n",
    "hw1234 = f'{hello} {world} {1234}'\n",
    "print(hw12)"
   ]
  },
  {
   "cell_type": "markdown",
   "metadata": {},
   "source": [
    "# Python String Methods\n"
   ]
  },
  {
   "cell_type": "code",
   "execution_count": 1,
   "metadata": {},
   "outputs": [
    {
     "name": "stdout",
     "output_type": "stream",
     "text": [
      "HELLO WORLD\n",
      "hello world\n",
      "11\n",
      "he(ell)(ell)o wor(ell)d\n",
      "world\n",
      "['hello', 'world']\n",
      "4\n",
      "hello world\n",
      "hello world\n",
      "Hello world\n",
      "b'hello world'\n",
      "hello world                                                                                         \n",
      "0000hello world\n"
     ]
    }
   ],
   "source": [
    "s = \"hello world\"\n",
    "print(s.upper()) \n",
    "print(s.lower())\n",
    "print(len(s))            # Convert a string to uppercase; prints \"HELLO\"\n",
    "print(s.replace('l', '(ell)'))  # Replace all instances of one substring with another\n",
    "print('  world '.strip())  # Strip leading and trailing whitespace\n",
    "print(s.split(\" \")) #splits the string into array of substrings if it finds instances of the separator\n",
    "print(s.index(\"o\")) \n",
    "print(s.rjust(7,'x'))\n",
    "print(s.center(7))     # Center a string, padding with spaces\n",
    "# throws an exception\n",
    "print(s.capitalize()) # Capitalize a string\n",
    "print(s.encode())\n",
    "print(s.ljust(100))      # Right-justify a string, padding with spaces\n",
    "print(s.zfill(15))\n",
    "\n"
   ]
  },
  {
   "cell_type": "markdown",
   "metadata": {
    "id": "06cayXLtL9fi"
   },
   "source": [
    "You can find a list of all string methods in the [documentation](https://docs.python.org/3.7/library/stdtypes.html#string-methods)."
   ]
  },
  {
   "cell_type": "markdown",
   "metadata": {},
   "source": [
    "# Python Slicing Methods"
   ]
  },
  {
   "cell_type": "code",
   "execution_count": 4,
   "metadata": {
    "scrolled": true
   },
   "outputs": [
    {
     "name": "stdout",
     "output_type": "stream",
     "text": [
      "llo\n",
      "Hello\n",
      "llo, World!\n",
      "Hello, World!\n"
     ]
    }
   ],
   "source": [
    "b = \"Hello, World!\"\n",
    "print(b[2:5])\n",
    "print(b[:5])\n",
    "print(b[2:])\n",
    "# print(b[-5:-2])\n",
    "print(b[:])\n",
    "# b[2:4] = [\"hi\",\"hello\"] TypeError: 'str' object does not support item assignment\n",
    "# b[2] = \"h\" TypeError: 'str' object does not support item assignment"
   ]
  },
  {
   "cell_type": "code",
   "execution_count": 5,
   "metadata": {},
   "outputs": [
    {
     "name": "stdout",
     "output_type": "stream",
     "text": [
      "[3, 4, 5, 6, 7, 8]\n"
     ]
    },
    {
     "data": {
      "text/plain": [
       "[3, 4, 68, 69, 66, 8]"
      ]
     },
     "execution_count": 5,
     "metadata": {},
     "output_type": "execute_result"
    }
   ],
   "source": [
    "nums = list(range(3,9))\n",
    "print(nums)\n",
    "nums[2:5] = [68,69,66]\n",
    "nums"
   ]
  },
  {
   "cell_type": "markdown",
   "metadata": {},
   "source": [
    "### Not in"
   ]
  },
  {
   "cell_type": "code",
   "execution_count": 27,
   "metadata": {},
   "outputs": [
    {
     "name": "stdout",
     "output_type": "stream",
     "text": [
      "True\n"
     ]
    }
   ],
   "source": [
    "txt = \"The best things in life are free!\"\n",
    "print(\"best\"  in txt)"
   ]
  },
  {
   "cell_type": "markdown",
   "metadata": {
    "id": "p9DSqUFdkEFR"
   },
   "source": [
    "### 1.4 Containers"
   ]
  },
  {
   "cell_type": "markdown",
   "metadata": {
    "id": "FD9H18eQL9fk"
   },
   "source": [
    "Python includes several built-in container types: lists, dictionaries, sets, and tuples."
   ]
  },
  {
   "cell_type": "markdown",
   "metadata": {
    "id": "pWd2xKZNXQHQ"
   },
   "source": [
    "#### 1.4.1 List\n",
    "A list is a container used to store a series of elements which may have different types. The list is represented by the symbol '[ ]' and it is resizable & dyamic."
   ]
  },
  {
   "cell_type": "code",
   "execution_count": 6,
   "metadata": {
    "colab": {
     "base_uri": "https://localhost:8080/"
    },
    "id": "7XXnL-VqXQHQ",
    "outputId": "20cb863f-2fde-4da8-cde5-4642fb0c445c"
   },
   "outputs": [
    {
     "name": "stdout",
     "output_type": "stream",
     "text": [
      "[0, 1, 2, 3.0, 4.0, 5.0, 'Apple', 'Banana']\n"
     ]
    }
   ],
   "source": [
    "myList=[0,1,2,3.0,4.0,5.0, \"Apple\", \"Banana\"]      # Create a list\n",
    "print(myList)             # Print() is the output statement"
   ]
  },
  {
   "cell_type": "code",
   "execution_count": 30,
   "metadata": {
    "colab": {
     "base_uri": "https://localhost:8080/"
    },
    "id": "N5zyizEKXQHR",
    "outputId": "e997c2a8-884b-476d-c08d-7bb18635ae4c"
   },
   "outputs": [
    {
     "name": "stdout",
     "output_type": "stream",
     "text": [
      "4.0\n",
      "[1, 10]\n",
      "Apple\n",
      "[0, 1, 10, 3.0, 4.0, 5.0, 'Apple']\n"
     ]
    }
   ],
   "source": [
    "myList[2]=10\n",
    "print(myList[4])          # Output the fourth element\n",
    "print(myList[1:3])        # Output the 2 to 3 elements\n",
    "print(myList[-2])         # Negative indices count from the end of the list; prints \"5\"\n",
    "print(myList[0:-1])        # Slice indices can be negative; prints [\"0, 1, 2, 3, 4]\""
   ]
  },
  {
   "cell_type": "code",
   "execution_count": 7,
   "metadata": {
    "colab": {
     "base_uri": "https://localhost:8080/"
    },
    "id": "n_aQCGMLXQHS",
    "outputId": "c21059b4-e984-48c4-9c23-a64dc1250a43"
   },
   "outputs": [
    {
     "name": "stdout",
     "output_type": "stream",
     "text": [
      "aaa\n"
     ]
    }
   ],
   "source": [
    "myList[2]='aaa'           # Lists can contain elements of different types\n",
    "print(myList[2])"
   ]
  },
  {
   "cell_type": "code",
   "execution_count": 8,
   "metadata": {
    "colab": {
     "base_uri": "https://localhost:8080/"
    },
    "id": "6zifIVF0XQHU",
    "outputId": "88dc3e2c-09de-4d95-f63b-8453700c3d2a",
    "scrolled": true
   },
   "outputs": [
    {
     "name": "stdout",
     "output_type": "stream",
     "text": [
      "bbb [0, 'xxx', 1, 'aaa', 3.0, 4.0, 5.0, 'Apple', 'Banana']\n"
     ]
    }
   ],
   "source": [
    "myList.append('bbb')      # Add to tail\n",
    "LastEl = myList.pop()     # Remove and return the last element of the list\n",
    "myList.insert(1,'xxx')    # Add to specified location\n",
    "print(LastEl, myList)"
   ]
  },
  {
   "cell_type": "code",
   "execution_count": 35,
   "metadata": {
    "colab": {
     "base_uri": "https://localhost:8080/"
    },
    "id": "LMxWfgbzXQHU",
    "outputId": "3550eec9-8b43-46bd-f643-fb50868500a1"
   },
   "outputs": [
    {
     "name": "stdout",
     "output_type": "stream",
     "text": [
      "False\n",
      "0\n"
     ]
    }
   ],
   "source": [
    "print('aaa' in myList)    # Determine whether the element is in the list\n",
    "print(myList.count('aaa'))\n",
    "# print(myList.index('aaa'))"
   ]
  },
  {
   "cell_type": "markdown",
   "metadata": {
    "id": "_DYz1j6QL9f_"
   },
   "source": [
    "**Looping over a List:** You can loop over the elements of a list like this:"
   ]
  },
  {
   "cell_type": "code",
   "execution_count": 36,
   "metadata": {
    "colab": {
     "base_uri": "https://localhost:8080/"
    },
    "id": "4cCOysfWL9gA",
    "outputId": "0e8c5733-30a0-43e5-d238-3d0af98f0749"
   },
   "outputs": [
    {
     "name": "stdout",
     "output_type": "stream",
     "text": [
      "cat\n",
      "dog\n",
      "monkey\n"
     ]
    }
   ],
   "source": [
    "animals = ['cat', 'dog', 'monkey']\n",
    "for x in animals:\n",
    "    print(x)"
   ]
  },
  {
   "cell_type": "markdown",
   "metadata": {
    "id": "KxIaQs7pL9gE"
   },
   "source": [
    "If you want access to the index of each element within the body of a loop, use the built-in `enumerate` function:"
   ]
  },
  {
   "cell_type": "code",
   "execution_count": 9,
   "metadata": {
    "colab": {
     "base_uri": "https://localhost:8080/"
    },
    "id": "JjGnDluWL9gF",
    "outputId": "4e706a93-4fc4-4ad3-ed45-7b111af09d67"
   },
   "outputs": [
    {
     "name": "stdout",
     "output_type": "stream",
     "text": [
      "#1: cat\n",
      "#2: dog\n",
      "#3: monkey\n"
     ]
    }
   ],
   "source": [
    "animals = ['cat', 'dog', 'monkey']\n",
    "for i, animal in enumerate(animals):\n",
    "    print('#{}: {}'.format(i + 1, animal))"
   ]
  },
  {
   "cell_type": "markdown",
   "metadata": {
    "id": "5Qn2jU_pL9gL"
   },
   "source": [
    "**List Comprehensions:** When programming, frequently we want to transform one type of data into another. As a simple example, consider the following code that computes square numbers:"
   ]
  },
  {
   "cell_type": "code",
   "execution_count": 10,
   "metadata": {
    "colab": {
     "base_uri": "https://localhost:8080/"
    },
    "id": "IVNEwoMXL9gL",
    "outputId": "2fbafd3a-735f-4f15-fc84-1eb67c1956a2"
   },
   "outputs": [
    {
     "name": "stdout",
     "output_type": "stream",
     "text": [
      "[0, 1, 4, 9, 16]\n"
     ]
    }
   ],
   "source": [
    "nums = [0, 1, 2, 3, 4]\n",
    "squares = []\n",
    "for x in nums:\n",
    "    squares.append(x ** 2)\n",
    "print(squares)"
   ]
  },
  {
   "cell_type": "markdown",
   "metadata": {
    "id": "7DmKVUFaL9gQ"
   },
   "source": [
    "You can make this code simpler using a list comprehension:"
   ]
  },
  {
   "cell_type": "code",
   "execution_count": 11,
   "metadata": {
    "colab": {
     "base_uri": "https://localhost:8080/"
    },
    "id": "kZxsUfV6L9gR",
    "outputId": "908cc669-f307-4fac-d3dd-627da58db600"
   },
   "outputs": [
    {
     "name": "stdout",
     "output_type": "stream",
     "text": [
      "[0, 1, 4, 9, 16]\n"
     ]
    }
   ],
   "source": [
    "nums = [0, 1, 2, 3, 4]\n",
    "squares = [x ** 2 for x in nums]\n",
    "print(squares)"
   ]
  },
  {
   "cell_type": "markdown",
   "metadata": {
    "id": "-D8ARK7tL9gV"
   },
   "source": [
    "List comprehensions can also contain conditions:"
   ]
  },
  {
   "cell_type": "code",
   "execution_count": 12,
   "metadata": {
    "colab": {
     "base_uri": "https://localhost:8080/"
    },
    "id": "yUtgOyyYL9gV",
    "outputId": "13dca4c7-0573-4847-ae54-b4b43f9eb4ba"
   },
   "outputs": [
    {
     "name": "stdout",
     "output_type": "stream",
     "text": [
      "[0, 4, 16]\n"
     ]
    }
   ],
   "source": [
    "nums = [0, 1, 2, 3, 4]\n",
    "even_squares = [x ** 2 for x in nums if x % 2 == 0]\n",
    "print(even_squares)"
   ]
  },
  {
   "cell_type": "markdown",
   "metadata": {
    "id": "N08mTeMqmY5Q"
   },
   "source": [
    "You can find more details about lists in the [documentation](https://docs.python.org/3.7/tutorial/datastructures.html#more-on-lists)."
   ]
  },
  {
   "cell_type": "markdown",
   "metadata": {
    "id": "hbC0UG3rXQHV"
   },
   "source": [
    "#### 1.4.2 Tuple\n",
    "A tuple is similar to a list, and the elements in the tuple are also indexed.\n",
    "Different from the list in which the value of each element can be modified, the value of the element in the tuple cannot be modified, but can only be read (thus immutable). The format for tuples is: ()."
   ]
  },
  {
   "cell_type": "code",
   "execution_count": 13,
   "metadata": {
    "colab": {
     "base_uri": "https://localhost:8080/"
    },
    "id": "aFcIlj3XXQHV",
    "outputId": "96c61ec2-c1e7-4e78-aaac-605a869cfc6a"
   },
   "outputs": [
    {
     "name": "stdout",
     "output_type": "stream",
     "text": [
      "('a', 'b', 'c')\n"
     ]
    }
   ],
   "source": [
    "myTuple = ('a','b','c')             # Define a Tuple\n",
    "print(myTuple)"
   ]
  },
  {
   "cell_type": "code",
   "execution_count": 14,
   "metadata": {
    "colab": {
     "base_uri": "https://localhost:8080/"
    },
    "id": "QMJII94IXQHV",
    "outputId": "36ab8f32-7a0a-4fad-dffb-6f281118e112"
   },
   "outputs": [
    {
     "name": "stdout",
     "output_type": "stream",
     "text": [
      "TypeError\n"
     ]
    }
   ],
   "source": [
    "try:                                # Lets try modifying the Tuple we just defined\n",
    "    myTuple[1] = 'd'\n",
    "except TypeError:\n",
    "    print('TypeError')"
   ]
  },
  {
   "cell_type": "markdown",
   "metadata": {
    "id": "L7Di5LeByz2l"
   },
   "source": [
    "Another important difference is that tuples can be used as keys in dictionaries and as elements of sets, while lists cannot. "
   ]
  },
  {
   "cell_type": "code",
   "execution_count": 15,
   "metadata": {
    "colab": {
     "base_uri": "https://localhost:8080/"
    },
    "id": "Yjyuw9ssy0z8",
    "outputId": "6be42983-7f02-4aae-a4ad-7863981a9122"
   },
   "outputs": [
    {
     "name": "stdout",
     "output_type": "stream",
     "text": [
      "{'Jane': 1987, 'John': 1994, 'Doe': 1992, 'Kate': 1990}\n",
      "Kim\n"
     ]
    }
   ],
   "source": [
    "myDict = {\"Jane\":1997, \"John\":1994, \"Doe\":1992}\n",
    "myDict[\"Jane\"]=1987 # Update\n",
    "myDict[\"Kate\"]=1990 #Insert\n",
    "print(myDict)\n",
    "myDict2 = {(1,2,3):\"Kim\"}\n",
    "print(myDict2[(1,2,3)])\n",
    "del(myDict)\n",
    "del(myDict2)\n"
   ]
  },
  {
   "cell_type": "code",
   "execution_count": 16,
   "metadata": {
    "colab": {
     "base_uri": "https://localhost:8080/"
    },
    "id": "fWWaeg66XQHW",
    "outputId": "f32b2274-7292-456b-8aed-b175777ba4b1"
   },
   "outputs": [
    {
     "name": "stdout",
     "output_type": "stream",
     "text": [
      "{0, 'aaa', 1, 3.0, 4.0, 5.0, 'Apple', 'xxx', 'Banana'}\n"
     ]
    }
   ],
   "source": [
    "mySet = set(myList)     # Converting a list to a set\n",
    "print(mySet)            # Any duplicate items are removed"
   ]
  },
  {
   "cell_type": "code",
   "execution_count": 17,
   "metadata": {
    "colab": {
     "base_uri": "https://localhost:8080/"
    },
    "id": "xx_U6TfnXQHW",
    "outputId": "d8d1125c-e881-4bdd-9b0b-dc67b6fd877a"
   },
   "outputs": [
    {
     "name": "stdout",
     "output_type": "stream",
     "text": [
      "{1, 2, 3, 'Ahmed'}\n"
     ]
    }
   ],
   "source": [
    "m=[1,1,1,2,3, \"Ahmed\"]\n",
    "mySet=set(m)            # Alternatively, you can also define set as mySet= {1,2,3}\n",
    "print(mySet)"
   ]
  },
  {
   "cell_type": "code",
   "execution_count": null,
   "metadata": {
    "colab": {
     "base_uri": "https://localhost:8080/"
    },
    "id": "9zh-7oAJt2T3",
    "outputId": "245d7de3-40b9-47e6-c49d-74577745ad21"
   },
   "outputs": [
    {
     "name": "stdout",
     "output_type": "stream",
     "text": [
      "True\n",
      "False\n"
     ]
    }
   ],
   "source": [
    "print(1 in mySet)       # Check if an element is in a set; prints \"True\"\n",
    "print(5 in mySet)       # prints \"False\""
   ]
  },
  {
   "cell_type": "code",
   "execution_count": 18,
   "metadata": {
    "colab": {
     "base_uri": "https://localhost:8080/"
    },
    "id": "8C0h4-NfXQHW",
    "outputId": "53782588-7d89-45b3-cdf8-6fcd3bcc57db"
   },
   "outputs": [
    {
     "name": "stdout",
     "output_type": "stream",
     "text": [
      "{1, 2, 3, 4, 'Ahmed'}\n",
      "{1, 2, 3, 4, 'Ahmed'}\n",
      "5\n",
      "4\n"
     ]
    }
   ],
   "source": [
    "mySet.add(4)            # Add elements to the set\n",
    "print(mySet)\n",
    "mySet.add(1)            # Adding an element that is already in the set does nothing\n",
    "print(mySet)\n",
    "print(len(mySet))       # Number of elements in a set;\n",
    "mySet.remove(2)     # Remove an element from a set\n",
    "print(len(mySet))      "
   ]
  },
  {
   "cell_type": "code",
   "execution_count": 19,
   "metadata": {
    "colab": {
     "base_uri": "https://localhost:8080/"
    },
    "id": "vZyPM1A4XQHW",
    "outputId": "203edbe4-6ef2-4776-8080-44f37911d68d"
   },
   "outputs": [
    {
     "name": "stdout",
     "output_type": "stream",
     "text": [
      "{1, 2, 3, 4, 5}\n"
     ]
    }
   ],
   "source": [
    "mS=set([5,4,3,2,1])     # Set is unordered\n",
    "print(mS)"
   ]
  },
  {
   "cell_type": "code",
   "execution_count": 20,
   "metadata": {
    "colab": {
     "base_uri": "https://localhost:8080/"
    },
    "id": "ywtLekfPXQHX",
    "outputId": "2334357b-9a4f-4909-e76e-6ca3294de380"
   },
   "outputs": [
    {
     "name": "stdout",
     "output_type": "stream",
     "text": [
      "{1, 2, 3, 4, 7, 8}\n",
      "{2, 4}\n",
      "{1, 3}\n"
     ]
    }
   ],
   "source": [
    "a = set([1,2,3,4])\n",
    "b = set([2,4,7,8])\n",
    "x = a | b               # Union\n",
    "print(x)\n",
    "y = a & b               # Intersection\n",
    "print(y)\n",
    "z = a - b               # Difference set\n",
    "print(z)"
   ]
  },
  {
   "cell_type": "markdown",
   "metadata": {
    "id": "zk2DbvLKL9g_"
   },
   "source": [
    "**Loops:** Iterating over a set has the same syntax as iterating over a list; however since sets are unordered, you cannot make assumptions about the order in which you visit the elements of the set:"
   ]
  },
  {
   "cell_type": "code",
   "execution_count": 21,
   "metadata": {
    "colab": {
     "base_uri": "https://localhost:8080/"
    },
    "id": "K47KYNGyL9hA",
    "outputId": "9d558f8c-f8c4-4075-af8d-fc2f3260a820"
   },
   "outputs": [
    {
     "name": "stdout",
     "output_type": "stream",
     "text": [
      "#1: fish\n",
      "#2: dog\n",
      "#3: cat\n"
     ]
    }
   ],
   "source": [
    "animals = {'cat', 'dog', 'fish'}\n",
    "for idx, animal in enumerate(animals):\n",
    "    print('#{}: {}'.format(idx + 1, animal))"
   ]
  },
  {
   "cell_type": "markdown",
   "metadata": {
    "id": "puq4S8buL9hC"
   },
   "source": [
    "**Set comprehensions:** Like lists and dictionaries, we can easily construct sets using set comprehensions:"
   ]
  },
  {
   "cell_type": "code",
   "execution_count": null,
   "metadata": {
    "colab": {
     "base_uri": "https://localhost:8080/"
    },
    "id": "iw7k90k3L9hC",
    "outputId": "98f25a2f-c7b0-4567-de4f-9deda1a7a38a"
   },
   "outputs": [],
   "source": [
    "from math import sqrt\n",
    "print({int(sqrt(x)) for x in range(30)})"
   ]
  },
  {
   "cell_type": "markdown",
   "metadata": {
    "id": "2PjRgbKZXQHX"
   },
   "source": [
    "#### 1.4.4 Dictionary\n",
    "A dictionary in Python is also called an associative array, enclosed in curly braces {}, and is called map in other languages (e.g., `Java`). It uses key-value storage and has extremely fast search speed, in which the key cannot be repeated."
   ]
  },
  {
   "cell_type": "code",
   "execution_count": 22,
   "metadata": {
    "colab": {
     "base_uri": "https://localhost:8080/"
    },
    "id": "1WZ8PXcYXQHX",
    "outputId": "e9822bf9-1d91-4432-c6eb-21fb58338a8d"
   },
   "outputs": [
    {
     "name": "stdout",
     "output_type": "stream",
     "text": [
      "123\n"
     ]
    }
   ],
   "source": [
    "myDict = {'name':'aa','id':123}     # Create a new dictionary with some data\n",
    "print(myDict['id'])                 # Get an entry from a dictionary, print \"123\""
   ]
  },
  {
   "cell_type": "code",
   "execution_count": 23,
   "metadata": {
    "colab": {
     "base_uri": "https://localhost:8080/"
    },
    "id": "Jh38Om3DXQHX",
    "outputId": "73649e2d-8268-45f6-807a-e0ffa90bf38d"
   },
   "outputs": [
    {
     "name": "stdout",
     "output_type": "stream",
     "text": [
      "{'name': 'cc', 'id': 123, 'phone': 'xiaomi'}\n"
     ]
    }
   ],
   "source": [
    "myDict['name'] = 'cc'                # Set an entry in a dictionary\n",
    "myDict['phone'] = 'xiaomi'           # Create a new entry in the dictionary\n",
    "print(myDict)"
   ]
  },
  {
   "cell_type": "code",
   "execution_count": 24,
   "metadata": {
    "colab": {
     "base_uri": "https://localhost:8080/"
    },
    "id": "0EItdNBJL9go",
    "outputId": "68f3ca77-fade-4b0c-8777-f7bf8af77c01"
   },
   "outputs": [
    {
     "name": "stdout",
     "output_type": "stream",
     "text": [
      "N/A\n"
     ]
    }
   ],
   "source": [
    "del myDict['phone']                  # Remove an element from a dictionary\n",
    "print(myDict.get('phone', 'N/A'))    # \"phone\" is no longer a key; prints \"N/A\""
   ]
  },
  {
   "cell_type": "markdown",
   "metadata": {
    "id": "wqm4dRZNL9gr"
   },
   "source": [
    "You can find all you need to know about dictionaries in the [documentation](https://docs.python.org/2/library/stdtypes.html#dict)."
   ]
  },
  {
   "cell_type": "markdown",
   "metadata": {
    "id": "IxwEqHlGL9gr"
   },
   "source": [
    "**Iterate over Dictionary:** It is easy to iterate over the keys in a dictionary:"
   ]
  },
  {
   "cell_type": "code",
   "execution_count": 25,
   "metadata": {
    "colab": {
     "base_uri": "https://localhost:8080/"
    },
    "id": "rYfz7ZKNL9gs",
    "outputId": "7f0cdf29-ed6a-4ecc-bf12-cdfc17ff062f"
   },
   "outputs": [
    {
     "name": "stdout",
     "output_type": "stream",
     "text": [
      "A person has 2 legs\n",
      "A cat has 4 legs\n",
      "A spider has 8 legs\n"
     ]
    }
   ],
   "source": [
    "myDict = {'person': 2, 'cat': 4, 'spider': 8}\n",
    "for animal, legs in myDict.items():\n",
    "    print('A {} has {} legs'.format(animal, legs))"
   ]
  },
  {
   "cell_type": "markdown",
   "metadata": {
    "id": "17sxiOpzL9gz"
   },
   "source": [
    "**Dictionary comprehensions:** These are similar to list comprehensions, but allow you to easily construct dictionaries. For example:"
   ]
  },
  {
   "cell_type": "code",
   "execution_count": 26,
   "metadata": {
    "colab": {
     "base_uri": "https://localhost:8080/"
    },
    "id": "8PB07imLL9gz",
    "outputId": "19e38642-9e8c-42c6-91b4-f232f8857182"
   },
   "outputs": [
    {
     "name": "stdout",
     "output_type": "stream",
     "text": [
      "{0: 0, 2: 4, 4: 16}\n"
     ]
    }
   ],
   "source": [
    "nums = [0, 1, 2, 3, 4]\n",
    "even_num_to_square = {x: x ** 2 for x in nums if x % 2 == 0}\n",
    "print(even_num_to_square)"
   ]
  },
  {
   "cell_type": "markdown",
   "metadata": {
    "id": "rbUoHU7iXQHX"
   },
   "source": [
    "## 2 Python Control Flow\n",
    "There are three types of control flow in Python: \n",
    "\n",
    "1.   sequence structure (statements execute after one another in the given order, you dont need to do anything for this to happen - this is the default)\n",
    "2.   branch structure (e.g., if else statements) and \n",
    "3.   loop structure (e.g., while and for loops).\n",
    "\n",
    "Here, we use a task to analyze control flow statement, i.e., judging leap years."
   ]
  },
  {
   "cell_type": "code",
   "execution_count": 27,
   "metadata": {
    "colab": {
     "base_uri": "https://localhost:8080/"
    },
    "id": "ZcIB4zo_XQHY",
    "outputId": "e11ab1b0-04e8-4d0a-ea55-ef73275da2c5"
   },
   "outputs": [
    {
     "name": "stdout",
     "output_type": "stream",
     "text": [
      "no\n"
     ]
    }
   ],
   "source": [
    "x=2021               # Given year\n",
    "if x<0:\n",
    "    print('no')\n",
    "elif x%100==0 :\n",
    "    if x%400==0:\n",
    "        print('yes')\n",
    "    else:\n",
    "        print('no')\n",
    "elif x%4==0:\n",
    "    print('yes')\n",
    "else:\n",
    "    print('no')\n",
    "\n",
    "# Can you try checking if 2020 is a leap year or not?"
   ]
  },
  {
   "cell_type": "markdown",
   "metadata": {
    "id": "UXtYHIH8XQHY"
   },
   "source": [
    "## 3 Python Functions"
   ]
  },
  {
   "cell_type": "markdown",
   "metadata": {
    "id": "foeuldDiXQHY"
   },
   "source": [
    "### 3.1 Function Call"
   ]
  },
  {
   "cell_type": "markdown",
   "metadata": {
    "id": "4F96fAlZ0T7L"
   },
   "source": [
    "Functions are called using the paranthesis `()` after the function name: `functionname(inputs)` "
   ]
  },
  {
   "cell_type": "code",
   "execution_count": 28,
   "metadata": {
    "colab": {
     "base_uri": "https://localhost:8080/"
    },
    "id": "aWGGx7vIXQHY",
    "outputId": "b9efb782-e8ae-4f43-d91e-168ca3c9e7d0"
   },
   "outputs": [
    {
     "name": "stdout",
     "output_type": "stream",
     "text": [
      "-5\n",
      "5\n"
     ]
    }
   ],
   "source": [
    "a=-5\n",
    "print(a)   # print() is a function call\n",
    "a=abs(a)   # abs() is a function call to an inbuilt function `abs`\n",
    "print(a)"
   ]
  },
  {
   "cell_type": "markdown",
   "metadata": {
    "id": "DBzjV2ZEXQHZ"
   },
   "source": [
    "### 3.2 Function Definition"
   ]
  },
  {
   "cell_type": "markdown",
   "metadata": {
    "id": "WaRms-QfL9hN"
   },
   "source": [
    "Python functions are defined using the `def` keyword. For example:"
   ]
  },
  {
   "cell_type": "code",
   "execution_count": 29,
   "metadata": {
    "colab": {
     "base_uri": "https://localhost:8080/"
    },
    "id": "eAOjFdeXXQHZ",
    "outputId": "4b2ead06-ccd1-4cf5-8800-d5b3d63b3ce5"
   },
   "outputs": [
    {
     "name": "stdout",
     "output_type": "stream",
     "text": [
      "5050\n",
      "55\n"
     ]
    }
   ],
   "source": [
    "def Sum(n):\n",
    "    sum=0\n",
    "    for i in range(1,n+1):     #for i in list/set/tuple/dict...\n",
    "        sum=sum+i\n",
    "    return sum\n",
    "    \n",
    "print(Sum(100))\n",
    "print(Sum(10))"
   ]
  },
  {
   "cell_type": "markdown",
   "metadata": {
    "id": "U-QJFt8TL9hR"
   },
   "source": [
    "We will often define functions to take optional keyword arguments, like this:"
   ]
  },
  {
   "cell_type": "code",
   "execution_count": 30,
   "metadata": {
    "colab": {
     "base_uri": "https://localhost:8080/"
    },
    "id": "PfsZ3DazL9hR",
    "outputId": "2321e54d-431e-4902-f205-89fd5b4fe15d"
   },
   "outputs": [
    {
     "name": "stdout",
     "output_type": "stream",
     "text": [
      "Hello, Bob!\n",
      "HELLO, FRED\n"
     ]
    }
   ],
   "source": [
    "def hello(name, loud=False):\n",
    "    if loud:\n",
    "        print('HELLO, {}'.format(name.upper()))\n",
    "    else:\n",
    "        print('Hello, {}!'.format(name))\n",
    "\n",
    "hello('Bob')\n",
    "\n",
    "hello('Fred', loud=True)"
   ]
  },
  {
   "cell_type": "markdown",
   "metadata": {
    "id": "7uZd9icFXQHZ"
   },
   "source": [
    "### 3.3 Lambda Function"
   ]
  },
  {
   "cell_type": "code",
   "execution_count": 31,
   "metadata": {
    "colab": {
     "base_uri": "https://localhost:8080/"
    },
    "id": "zcjYiG4zXQHZ",
    "outputId": "02bebcb7-0def-4914-ee0d-612088da6c9f"
   },
   "outputs": [
    {
     "data": {
      "text/plain": [
       "4.5"
      ]
     },
     "execution_count": 31,
     "metadata": {},
     "output_type": "execute_result"
    }
   ],
   "source": [
    "f=lambda x:x*x\n",
    "x = lambda y,x:y*1.5\n",
    "x(3,4)\n",
    "# f(4)"
   ]
  },
  {
   "cell_type": "markdown",
   "metadata": {
    "id": "jeiSxsFVDe69"
   },
   "source": [
    "**2 -** Given this nested dictionary grab the word \"hello\". Be prepared, this will be annoying/tricky"
   ]
  },
  {
   "cell_type": "code",
   "execution_count": 33,
   "metadata": {
    "id": "uWuRX6PgDizF"
   },
   "outputs": [],
   "source": [
    "d = {'k1':[1,2,3,{'tricky':['oh','man','inception',{'target':[1,2,3,'hello']}]}]}"
   ]
  },
  {
   "cell_type": "markdown",
   "metadata": {
    "id": "sRrYqg8FEHwf"
   },
   "source": [
    "**3 -** Use lambda expressions and the filter() function to filters words from a list that don't start with the letter 's'. For example:\n",
    "\n",
    "`seq = ['soup','dog','salad','cat','great']`\n",
    "\n",
    "should be filtered down to:\n",
    "\n",
    "`['dog', 'cat', 'great']`"
   ]
  },
  {
   "cell_type": "code",
   "execution_count": 34,
   "metadata": {
    "id": "oaQFt7pDEMnz"
   },
   "outputs": [
    {
     "name": "stdout",
     "output_type": "stream",
     "text": [
      "['dog', 'cat', 'great']\n"
     ]
    }
   ],
   "source": [
    "seq = ['soup','dog','salad','cat','great']\n",
    "filtered = filter(lambda x:x[0]!='s',seq)\n",
    "print(list(filtered))"
   ]
  },
  {
   "cell_type": "code",
   "execution_count": null,
   "metadata": {},
   "outputs": [],
   "source": []
  }
 ],
 "metadata": {
  "colab": {
   "collapsed_sections": [
    "N3VPSFezjMNT",
    "B7WpC3Wtjgu0",
    "UQnQWFEyL9fP",
    "p9DSqUFdkEFR",
    "pWd2xKZNXQHQ",
    "hbC0UG3rXQHV",
    "oyKm00fAXQHV",
    "2PjRgbKZXQHX",
    "rbUoHU7iXQHX",
    "UXtYHIH8XQHY",
    "foeuldDiXQHY",
    "DBzjV2ZEXQHZ",
    "7uZd9icFXQHZ",
    "ObA9PRtQL9hT",
    "qlL3_YK_Tg7-",
    "A9gXw-xeRUG4",
    "_ydy8MRlXUAK",
    "dTntqTK7dG9S",
    "1akBNeUozLOk",
    "-yeR6ULdzGRx",
    "HbESGMTHfDMp",
    "RGKhU8seyy9w",
    "IBYPOOs_feCc",
    "wZuZLeOMyeED",
    "7rip0rpvgTOF",
    "SoLX6_TCx1Td",
    "wxdiNhP3ggbU",
    "t1aLXuO010vX",
    "D_CshuRmgt1U"
   ],
   "name": "Python_Crash_Course_Students.ipynb",
   "provenance": []
  },
  "kernelspec": {
   "display_name": "Python 3 (ipykernel)",
   "language": "python",
   "name": "python3"
  },
  "language_info": {
   "codemirror_mode": {
    "name": "ipython",
    "version": 3
   },
   "file_extension": ".py",
   "mimetype": "text/x-python",
   "name": "python",
   "nbconvert_exporter": "python",
   "pygments_lexer": "ipython3",
   "version": "3.9.13"
  },
  "vscode": {
   "interpreter": {
    "hash": "3d3af293e0fc9a9df57654d6f7a636bed1b3423e878a9389075cb45458b282c4"
   }
  }
 },
 "nbformat": 4,
 "nbformat_minor": 1
}
